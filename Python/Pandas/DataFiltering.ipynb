{
 "cells": [
  {
   "cell_type": "code",
   "id": "initial_id",
   "metadata": {
    "collapsed": true,
    "ExecuteTime": {
     "end_time": "2025-08-15T09:48:00.209987Z",
     "start_time": "2025-08-15T09:47:59.586606Z"
    }
   },
   "source": "import pandas as pd",
   "outputs": [],
   "execution_count": 1
  },
  {
   "metadata": {
    "ExecuteTime": {
     "end_time": "2025-08-15T09:48:35.312061Z",
     "start_time": "2025-08-15T09:48:35.304766Z"
    }
   },
   "cell_type": "code",
   "source": "coffee = pd.read_csv(\"./Data/coffeeShop.csv\")",
   "id": "39e91bc7ccfaffd9",
   "outputs": [],
   "execution_count": 3
  },
  {
   "metadata": {
    "ExecuteTime": {
     "end_time": "2025-08-15T09:50:23.575084Z",
     "start_time": "2025-08-15T09:50:23.518406Z"
    }
   },
   "cell_type": "code",
   "source": "coffee.query('Total > 5 and Price >= 3')",
   "id": "6fbe2535eccf7111",
   "outputs": [
    {
     "data": {
      "text/plain": [
       "         Date Transaction_ID   Customer_Name               Item Category  \\\n",
       "0  2025-08-01         TXN001      John Smith              Latte    Drink   \n",
       "4  2025-08-02         TXN005     Ethan Brown  Caramel Macchiato    Drink   \n",
       "6  2025-08-03         TXN007    Liam Johnson          Americano    Drink   \n",
       "9  2025-08-04         TXN010  Isabella Adams          Cold Brew    Drink   \n",
       "\n",
       "   Quantity  Price  Total Payment_Method  \n",
       "0         2    3.5    7.0           Cash  \n",
       "4         2    4.2    8.4           Card  \n",
       "6         2    3.0    6.0           Card  \n",
       "9         2    3.7    7.4           Card  "
      ],
      "text/html": [
       "<div>\n",
       "<style scoped>\n",
       "    .dataframe tbody tr th:only-of-type {\n",
       "        vertical-align: middle;\n",
       "    }\n",
       "\n",
       "    .dataframe tbody tr th {\n",
       "        vertical-align: top;\n",
       "    }\n",
       "\n",
       "    .dataframe thead th {\n",
       "        text-align: right;\n",
       "    }\n",
       "</style>\n",
       "<table border=\"1\" class=\"dataframe\">\n",
       "  <thead>\n",
       "    <tr style=\"text-align: right;\">\n",
       "      <th></th>\n",
       "      <th>Date</th>\n",
       "      <th>Transaction_ID</th>\n",
       "      <th>Customer_Name</th>\n",
       "      <th>Item</th>\n",
       "      <th>Category</th>\n",
       "      <th>Quantity</th>\n",
       "      <th>Price</th>\n",
       "      <th>Total</th>\n",
       "      <th>Payment_Method</th>\n",
       "    </tr>\n",
       "  </thead>\n",
       "  <tbody>\n",
       "    <tr>\n",
       "      <th>0</th>\n",
       "      <td>2025-08-01</td>\n",
       "      <td>TXN001</td>\n",
       "      <td>John Smith</td>\n",
       "      <td>Latte</td>\n",
       "      <td>Drink</td>\n",
       "      <td>2</td>\n",
       "      <td>3.5</td>\n",
       "      <td>7.0</td>\n",
       "      <td>Cash</td>\n",
       "    </tr>\n",
       "    <tr>\n",
       "      <th>4</th>\n",
       "      <td>2025-08-02</td>\n",
       "      <td>TXN005</td>\n",
       "      <td>Ethan Brown</td>\n",
       "      <td>Caramel Macchiato</td>\n",
       "      <td>Drink</td>\n",
       "      <td>2</td>\n",
       "      <td>4.2</td>\n",
       "      <td>8.4</td>\n",
       "      <td>Card</td>\n",
       "    </tr>\n",
       "    <tr>\n",
       "      <th>6</th>\n",
       "      <td>2025-08-03</td>\n",
       "      <td>TXN007</td>\n",
       "      <td>Liam Johnson</td>\n",
       "      <td>Americano</td>\n",
       "      <td>Drink</td>\n",
       "      <td>2</td>\n",
       "      <td>3.0</td>\n",
       "      <td>6.0</td>\n",
       "      <td>Card</td>\n",
       "    </tr>\n",
       "    <tr>\n",
       "      <th>9</th>\n",
       "      <td>2025-08-04</td>\n",
       "      <td>TXN010</td>\n",
       "      <td>Isabella Adams</td>\n",
       "      <td>Cold Brew</td>\n",
       "      <td>Drink</td>\n",
       "      <td>2</td>\n",
       "      <td>3.7</td>\n",
       "      <td>7.4</td>\n",
       "      <td>Card</td>\n",
       "    </tr>\n",
       "  </tbody>\n",
       "</table>\n",
       "</div>"
      ]
     },
     "execution_count": 15,
     "metadata": {},
     "output_type": "execute_result"
    }
   ],
   "execution_count": 15
  }
 ],
 "metadata": {
  "kernelspec": {
   "display_name": "Python [conda env:base] *",
   "language": "python",
   "name": "conda-base-py"
  },
  "language_info": {
   "codemirror_mode": {
    "name": "ipython",
    "version": 2
   },
   "file_extension": ".py",
   "mimetype": "text/x-python",
   "name": "python",
   "nbconvert_exporter": "python",
   "pygments_lexer": "ipython2",
   "version": "2.7.6"
  }
 },
 "nbformat": 4,
 "nbformat_minor": 5
}
